{
 "cells": [
  {
   "cell_type": "code",
   "execution_count": 10,
   "metadata": {},
   "outputs": [],
   "source": [
    "import pandas as pd\n",
    "\n",
    "df = pd.read_csv(\"fake_courses.csv\")"
   ]
  },
  {
   "cell_type": "code",
   "execution_count": 11,
   "metadata": {},
   "outputs": [],
   "source": [
    "def sort_courses():\n",
    "    \n",
    "    print(\"Please choose to sort by one of the following:\")\n",
    "    key_word = input(\"Course Number, Name, Avg. Semester Grade, Pass Rate, Professor, Professor Rating, or Format\")\n",
    "    \n",
    "    if key_word == \"Course Number\":\n",
    "        co_num_df = df.sort_values(by='Course_#')\n",
    "        display(co_num_df)\n",
    "    elif key_word == \"Name\":\n",
    "        name_df = df.sort_values(by='Name')\n",
    "        display(name_df)\n",
    "    elif key_word == \"Avg. Semester Grade\":\n",
    "        grade_df = df.sort_values(by='Average_Semester_Grade')\n",
    "        display(grade_df)\n",
    "    elif key_word == \"Pass Rate\":\n",
    "        pass_df = df.sort_values(by='Pass_Rate')\n",
    "        display(pass_df)\n",
    "    elif key_word == \"Professor\":\n",
    "        prof_df = df.sort_values(by='Professor')\n",
    "        display(prof_df)\n",
    "    elif key_word == \"Professor Rating\":\n",
    "        prof_rate_df = df.sort_values(by='Professor_Rating')\n",
    "        display(prof_rate_df)\n",
    "    elif key_word == \"Format\":\n",
    "        form_df = df.sort_values(by='Format')\n",
    "        display(form_df)"
   ]
  },
  {
   "cell_type": "code",
   "execution_count": 12,
   "metadata": {},
   "outputs": [],
   "source": [
    "def search_courses():\n",
    "    \n",
    "    print(\"Please choose to search one of the following:\")\n",
    "    key_word = input(\"Course Number, Name, Avg. Semester Grade, Pass Rate, Professor, or Format\")\n",
    "    search_term = input(\"Now, enter your search criteria:\")\n",
    "    \n",
    "    if key_word == \"Course Number\":\n",
    "        co_num_df = df[df['Course_#'] == int(search_term)]\n",
    "        display(co_num_df)\n",
    "    elif key_word == \"Name\":\n",
    "        name_df = df[df['Name'] == search_term]\n",
    "        display(name_df)\n",
    "    elif key_word == \"Avg. Semester Grade\":\n",
    "        grade_df = df[df['Average_Semester_Grade'] == int(search_term)]\n",
    "        display(grade_df)\n",
    "    elif key_word == \"Pass Rate\":\n",
    "        pass_df = df[df['Pass_Rate'] == int(search_term)]\n",
    "        display(pass_df)\n",
    "    elif key_word == \"Professor\":\n",
    "        prof_df = df[df['Professor'] == search_term]\n",
    "        display(prof_df)\n",
    "    elif key_word == \"Format\":\n",
    "        form_df = df[df['Format'] == search_term]\n",
    "        display(form_df)"
   ]
  },
  {
   "cell_type": "code",
   "execution_count": 13,
   "metadata": {},
   "outputs": [],
   "source": [
    "def function_select(option):\n",
    "                \n",
    "        if option == \"Sort\":\n",
    "            sort_courses()\n",
    "        elif option == \"Search\":\n",
    "            search_courses()\n",
    "        else:\n",
    "            print(\"Invalid Option\")"
   ]
  },
  {
   "cell_type": "code",
   "execution_count": 14,
   "metadata": {},
   "outputs": [
    {
     "name": "stdin",
     "output_type": "stream",
     "text": [
      "Would you like to sort or search? Sort\n"
     ]
    },
    {
     "name": "stdout",
     "output_type": "stream",
     "text": [
      "Please choose to sort by one of the following:\n"
     ]
    },
    {
     "name": "stdin",
     "output_type": "stream",
     "text": [
      "Course Number, Name, Avg. Semester Grade, Pass Rate, Professor, Professor Rating, or Format Avg. Semester Grade\n"
     ]
    },
    {
     "data": {
      "text/html": [
       "<div>\n",
       "<style scoped>\n",
       "    .dataframe tbody tr th:only-of-type {\n",
       "        vertical-align: middle;\n",
       "    }\n",
       "\n",
       "    .dataframe tbody tr th {\n",
       "        vertical-align: top;\n",
       "    }\n",
       "\n",
       "    .dataframe thead th {\n",
       "        text-align: right;\n",
       "    }\n",
       "</style>\n",
       "<table border=\"1\" class=\"dataframe\">\n",
       "  <thead>\n",
       "    <tr style=\"text-align: right;\">\n",
       "      <th></th>\n",
       "      <th>Course_#</th>\n",
       "      <th>Name</th>\n",
       "      <th>Average_Semester_Grade</th>\n",
       "      <th>Pass_Rate</th>\n",
       "      <th>Professor</th>\n",
       "      <th>Professor_Rating</th>\n",
       "      <th>Format</th>\n",
       "    </tr>\n",
       "  </thead>\n",
       "  <tbody>\n",
       "    <tr>\n",
       "      <th>5</th>\n",
       "      <td>326</td>\n",
       "      <td>Object-Oriented Programming for Information Sc...</td>\n",
       "      <td>80</td>\n",
       "      <td>85</td>\n",
       "      <td>Dustin</td>\n",
       "      <td>89</td>\n",
       "      <td>Blended</td>\n",
       "    </tr>\n",
       "    <tr>\n",
       "      <th>2</th>\n",
       "      <td>311</td>\n",
       "      <td>Information Organization</td>\n",
       "      <td>85</td>\n",
       "      <td>83</td>\n",
       "      <td>Byers</td>\n",
       "      <td>95</td>\n",
       "      <td>Online</td>\n",
       "    </tr>\n",
       "    <tr>\n",
       "      <th>4</th>\n",
       "      <td>314</td>\n",
       "      <td>Statistics for Information Science</td>\n",
       "      <td>85</td>\n",
       "      <td>92</td>\n",
       "      <td>Brown</td>\n",
       "      <td>90</td>\n",
       "      <td>In-Person</td>\n",
       "    </tr>\n",
       "    <tr>\n",
       "      <th>3</th>\n",
       "      <td>311</td>\n",
       "      <td>Information Organization</td>\n",
       "      <td>87</td>\n",
       "      <td>90</td>\n",
       "      <td>Hawkins</td>\n",
       "      <td>97</td>\n",
       "      <td>Blended</td>\n",
       "    </tr>\n",
       "    <tr>\n",
       "      <th>1</th>\n",
       "      <td>126</td>\n",
       "      <td>Introduction to Programming for Information Sc...</td>\n",
       "      <td>90</td>\n",
       "      <td>84</td>\n",
       "      <td>Praveen</td>\n",
       "      <td>100</td>\n",
       "      <td>Online</td>\n",
       "    </tr>\n",
       "    <tr>\n",
       "      <th>0</th>\n",
       "      <td>201</td>\n",
       "      <td>Introduction to Information Science</td>\n",
       "      <td>95</td>\n",
       "      <td>87</td>\n",
       "      <td>Rogers</td>\n",
       "      <td>100</td>\n",
       "      <td>Online</td>\n",
       "    </tr>\n",
       "  </tbody>\n",
       "</table>\n",
       "</div>"
      ],
      "text/plain": [
       "   Course_#                                               Name  \\\n",
       "5       326  Object-Oriented Programming for Information Sc...   \n",
       "2       311                           Information Organization   \n",
       "4       314                 Statistics for Information Science   \n",
       "3       311                           Information Organization   \n",
       "1       126  Introduction to Programming for Information Sc...   \n",
       "0       201                Introduction to Information Science   \n",
       "\n",
       "   Average_Semester_Grade  Pass_Rate Professor  Professor_Rating     Format  \n",
       "5                      80         85    Dustin                89    Blended  \n",
       "2                      85         83     Byers                95     Online  \n",
       "4                      85         92     Brown                90  In-Person  \n",
       "3                      87         90   Hawkins                97    Blended  \n",
       "1                      90         84   Praveen               100     Online  \n",
       "0                      95         87    Rogers               100     Online  "
      ]
     },
     "metadata": {},
     "output_type": "display_data"
    }
   ],
   "source": [
    "option = input(\"Would you like to sort or search?\")\n",
    "function_select(option)"
   ]
  },
  {
   "cell_type": "code",
   "execution_count": 15,
   "metadata": {},
   "outputs": [
    {
     "name": "stdin",
     "output_type": "stream",
     "text": [
      "Would you like to sort or search? Search\n"
     ]
    },
    {
     "name": "stdout",
     "output_type": "stream",
     "text": [
      "Please choose to search one of the following:\n"
     ]
    },
    {
     "name": "stdin",
     "output_type": "stream",
     "text": [
      "Course Number, Name, Avg. Semester Grade, Pass Rate, Professor, or Format Format\n",
      "Now, enter your search criteria: Online\n"
     ]
    },
    {
     "data": {
      "text/html": [
       "<div>\n",
       "<style scoped>\n",
       "    .dataframe tbody tr th:only-of-type {\n",
       "        vertical-align: middle;\n",
       "    }\n",
       "\n",
       "    .dataframe tbody tr th {\n",
       "        vertical-align: top;\n",
       "    }\n",
       "\n",
       "    .dataframe thead th {\n",
       "        text-align: right;\n",
       "    }\n",
       "</style>\n",
       "<table border=\"1\" class=\"dataframe\">\n",
       "  <thead>\n",
       "    <tr style=\"text-align: right;\">\n",
       "      <th></th>\n",
       "      <th>Course_#</th>\n",
       "      <th>Name</th>\n",
       "      <th>Average_Semester_Grade</th>\n",
       "      <th>Pass_Rate</th>\n",
       "      <th>Professor</th>\n",
       "      <th>Professor_Rating</th>\n",
       "      <th>Format</th>\n",
       "    </tr>\n",
       "  </thead>\n",
       "  <tbody>\n",
       "    <tr>\n",
       "      <th>0</th>\n",
       "      <td>201</td>\n",
       "      <td>Introduction to Information Science</td>\n",
       "      <td>95</td>\n",
       "      <td>87</td>\n",
       "      <td>Rogers</td>\n",
       "      <td>100</td>\n",
       "      <td>Online</td>\n",
       "    </tr>\n",
       "    <tr>\n",
       "      <th>1</th>\n",
       "      <td>126</td>\n",
       "      <td>Introduction to Programming for Information Sc...</td>\n",
       "      <td>90</td>\n",
       "      <td>84</td>\n",
       "      <td>Praveen</td>\n",
       "      <td>100</td>\n",
       "      <td>Online</td>\n",
       "    </tr>\n",
       "    <tr>\n",
       "      <th>2</th>\n",
       "      <td>311</td>\n",
       "      <td>Information Organization</td>\n",
       "      <td>85</td>\n",
       "      <td>83</td>\n",
       "      <td>Byers</td>\n",
       "      <td>95</td>\n",
       "      <td>Online</td>\n",
       "    </tr>\n",
       "  </tbody>\n",
       "</table>\n",
       "</div>"
      ],
      "text/plain": [
       "   Course_#                                               Name  \\\n",
       "0       201                Introduction to Information Science   \n",
       "1       126  Introduction to Programming for Information Sc...   \n",
       "2       311                           Information Organization   \n",
       "\n",
       "   Average_Semester_Grade  Pass_Rate Professor  Professor_Rating  Format  \n",
       "0                      95         87    Rogers               100  Online  \n",
       "1                      90         84   Praveen               100  Online  \n",
       "2                      85         83     Byers                95  Online  "
      ]
     },
     "metadata": {},
     "output_type": "display_data"
    }
   ],
   "source": [
    "option = input(\"Would you like to sort or search?\")\n",
    "function_select(option)"
   ]
  },
  {
   "cell_type": "code",
   "execution_count": null,
   "metadata": {},
   "outputs": [],
   "source": []
  }
 ],
 "metadata": {
  "kernelspec": {
   "display_name": "Python 3",
   "language": "python",
   "name": "python3"
  },
  "language_info": {
   "codemirror_mode": {
    "name": "ipython",
    "version": 3
   },
   "file_extension": ".py",
   "mimetype": "text/x-python",
   "name": "python",
   "nbconvert_exporter": "python",
   "pygments_lexer": "ipython3",
   "version": "3.8.5"
  }
 },
 "nbformat": 4,
 "nbformat_minor": 4
}
