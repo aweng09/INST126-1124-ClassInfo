{
 "cells": [
  {
   "cell_type": "code",
   "execution_count": 5,
   "metadata": {},
   "outputs": [],
   "source": [
    "import pandas as pd\n",
    "\n",
    "df = pd.read_csv(\"courses.csv\")"
   ]
  },
  {
   "cell_type": "code",
   "execution_count": 6,
   "metadata": {},
   "outputs": [],
   "source": [
    "def sort_courses():\n",
    "    \n",
    "    print(\"Please choose to sort by one of the following:\")\n",
    "    key_word = input(\"Course Number, Name, Avg. Semester Grade, Pass Rate, Professor, Professor Rating, or Format\")\n",
    "    \n",
    "    if key_word == \"Course Number\":\n",
    "        co_num_df = df.sort_values(by='Course_#')\n",
    "        display(co_num_df)\n",
    "    elif key_word == \"Name\":\n",
    "        name_df = df.sort_values(by='Name')\n",
    "        display(name_df)\n",
    "    elif key_word == \"Avg. Semester Grade\":\n",
    "        grade_df = df.sort_values(by='Average_Semester_Grade')\n",
    "        display(grade_df)\n",
    "    elif key_word == \"Pass Rate\":\n",
    "        pass_df = df.sort_values(by='Pass_Rate')\n",
    "        display(pass_df)\n",
    "    elif key_word == \"Professor\":\n",
    "        prof_df = df.sort_values(by='Professor')\n",
    "        display(prof_df)\n",
    "    elif key_word == \"Professor Rating\":\n",
    "        prof_rate_df = df.sort_values(by='Professor_Rating')\n",
    "        display(prof_rate_df)\n",
    "    elif key_word == \"Format\":\n",
    "        form_df = df.sort_values(by='Format')\n",
    "        display(form_df)"
   ]
  },
  {
   "cell_type": "code",
   "execution_count": 7,
   "metadata": {},
   "outputs": [],
   "source": [
    "def search_courses():\n",
    "    \n",
    "    print(\"Please choose to search one of the following:\")\n",
    "    key_word = input(\"Course Number, Name, Avg. Semester Grade, Pass Rate, Professor, or Format\")\n",
    "    search_term = input(\"Now, enter your search criteria:\")\n",
    "    \n",
    "    if key_word == \"Course Number\":\n",
    "        co_num_df = df[df['Course_#'] == int(search_term)]\n",
    "        display(co_num_df)\n",
    "    elif key_word == \"Name\":\n",
    "        name_df = df[df['Name'] == search_term]\n",
    "        display(name_df)\n",
    "    elif key_word == \"Avg. Semester Grade\":\n",
    "        grade_df = df[df['Average_Semester_Grade'] == int(search_term)]\n",
    "        display(grade_df)\n",
    "    elif key_word == \"Pass Rate\":\n",
    "        pass_df = df[df['Pass_Rate'] == int(search_term)]\n",
    "        display(pass_df)\n",
    "    elif key_word == \"Professor\":\n",
    "        prof_df = df[df['Professor'] == search_term]\n",
    "        display(prof_df)\n",
    "    elif key_word == \"Format\":\n",
    "        form_df = df[df['Format'] == search_term]\n",
    "        display(form_df)"
   ]
  },
  {
   "cell_type": "code",
   "execution_count": 8,
   "metadata": {},
   "outputs": [],
   "source": [
    "def function_select(option):\n",
    "    \n",
    "        option = input(\"Would you like to sort or search?\")\n",
    "            \n",
    "        if option == \"Sort\":\n",
    "            sort_courses()\n",
    "        elif option == \"Search\":\n",
    "            search_courses()\n",
    "        else:\n",
    "            print(\"Invalid Option\")"
   ]
  },
  {
   "cell_type": "code",
   "execution_count": null,
   "metadata": {},
   "outputs": [],
   "source": [
    "option = input(\"Would you like to sort or search?\")\n",
    "function_select(option)"
   ]
  },
  {
   "cell_type": "code",
   "execution_count": null,
   "metadata": {},
   "outputs": [],
   "source": []
  }
 ],
 "metadata": {
  "kernelspec": {
   "display_name": "Python 3",
   "language": "python",
   "name": "python3"
  },
  "language_info": {
   "codemirror_mode": {
    "name": "ipython",
    "version": 3
   },
   "file_extension": ".py",
   "mimetype": "text/x-python",
   "name": "python",
   "nbconvert_exporter": "python",
   "pygments_lexer": "ipython3",
   "version": "3.8.5"
  }
 },
 "nbformat": 4,
 "nbformat_minor": 4
}
